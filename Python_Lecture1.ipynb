{
  "nbformat": 4,
  "nbformat_minor": 0,
  "metadata": {
    "colab": {
      "provenance": [],
      "toc_visible": true,
      "authorship_tag": "ABX9TyNKEHecP+tWhvq7BrkPF/SX",
      "include_colab_link": true
    },
    "kernelspec": {
      "name": "python3",
      "display_name": "Python 3"
    },
    "language_info": {
      "name": "python"
    }
  },
  "cells": [
    {
      "cell_type": "markdown",
      "metadata": {
        "id": "view-in-github",
        "colab_type": "text"
      },
      "source": [
        "<a href=\"https://colab.research.google.com/github/cristianobattistini/learning/blob/main/Python_Lecture1.ipynb\" target=\"_parent\"><img src=\"https://colab.research.google.com/assets/colab-badge.svg\" alt=\"Open In Colab\"/></a>"
      ]
    },
    {
      "cell_type": "code",
      "source": [
        "fahrenheit_string = input(\"Enter the temperature in Fahrenheit: \")\n",
        "# Convert the string to number\n",
        "fahreneit = float(fahrenheit_string)\n",
        "#use the converrsion formula to find the celsius value\n",
        "celsius = (fahreneit -32) * 5/9\n",
        "#print the celsius value\n",
        "print(celsius)"
      ],
      "metadata": {
        "colab": {
          "base_uri": "https://localhost:8080/"
        },
        "id": "WRE10XRfyO5C",
        "outputId": "bd7fd78c-ca2e-4156-d87a-b3707e8e68fc"
      },
      "execution_count": 6,
      "outputs": [
        {
          "output_type": "stream",
          "name": "stdout",
          "text": [
            "Enter the temperature in Fahrenheit: 24\n",
            "-4.444444444444445\n"
          ]
        }
      ]
    },
    {
      "cell_type": "code",
      "source": [
        "fahrenheit_string = input(\"Enter the temperature in Fahrenheit: \")\n",
        "# Convert the string to number\n",
        "fahreneit = float(fahrenheit_string)\n",
        "#use the conversion formula to find the celsius value\n",
        "celsius = (fahreneit -32) * 5/9\n",
        "#print the celsius value\n",
        "print(celsius)\n",
        "\n",
        "def convert(valueInFahreneit):\n",
        "  f = float(valueInFahreneit)\n",
        "  c = (f -32) * 5/9\n",
        "  return c\n",
        "\n",
        "\n",
        "print(convert(fahrenheit_string))"
      ],
      "metadata": {
        "colab": {
          "base_uri": "https://localhost:8080/"
        },
        "id": "81-7tjARyuNJ",
        "outputId": "ad6d6722-9b72-4e15-b16b-6fb6e8363179"
      },
      "execution_count": 9,
      "outputs": [
        {
          "output_type": "stream",
          "name": "stdout",
          "text": [
            "Enter the temperature in Fahrenheit: 68\n",
            "20.0\n",
            "20.0\n"
          ]
        }
      ]
    },
    {
      "cell_type": "code",
      "source": [
        "# NOTE THE INDENTATION!!\n",
        "kelvinInput = input(\"Enter the temperature in kelvin: \")\n",
        "def convertKelvinToFahreneit(kelvinValue):\n",
        "  kelvinCastedValue = float(kelvinValue)\n",
        "  fahreneit = 1.8 * (kelvinCastedValue - 273.15) +32\n",
        "  return fahreneit\n",
        "\n",
        "print(convertKelvinToFahreneit(kelvinInput))\n"
      ],
      "metadata": {
        "colab": {
          "base_uri": "https://localhost:8080/"
        },
        "id": "eBJ60VQDy6kI",
        "outputId": "e578013d-fec3-413e-b82d-b1548b7dbf8e"
      },
      "execution_count": 10,
      "outputs": [
        {
          "output_type": "stream",
          "name": "stdout",
          "text": [
            "Enter the temperature in kelvin: 220\n",
            "-63.66999999999996\n"
          ]
        }
      ]
    },
    {
      "cell_type": "code",
      "source": [
        "def vanderwaals(T,V,n,a=1.38e-1,b=31.86e-6):   #last two arguments are called keyword arguments\n",
        "  R = 8.314\n",
        "  p = n * R * T /(V - n * b) - a*n**2/V**2\n",
        "  return p\n",
        "\n",
        "P = vanderwaals(273.15, 0.001, 1)\n",
        "print(P)\n",
        "print(\"{:e}\".format(P))"
      ],
      "metadata": {
        "colab": {
          "base_uri": "https://localhost:8080/"
        },
        "id": "VZCLS1ET0ib8",
        "outputId": "a13a9efb-4054-4531-b2c1-b5d0549890d4"
      },
      "execution_count": 13,
      "outputs": [
        {
          "output_type": "stream",
          "name": "stdout",
          "text": [
            "2207703.204082054\n",
            "2.207703e+06\n"
          ]
        }
      ]
    },
    {
      "cell_type": "code",
      "source": [
        "def circle(r):\n",
        "  import math\n",
        "  math."
      ],
      "metadata": {
        "id": "MVuViy7n3HeY"
      },
      "execution_count": null,
      "outputs": []
    }
  ]
}